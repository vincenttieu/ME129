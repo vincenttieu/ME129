{
 "cells": [
  {
   "cell_type": "code",
   "execution_count": 18,
   "metadata": {},
   "outputs": [],
   "source": [
    "# Global Constants: # Headings\n",
    "NORTH = 0\n",
    "WEST  = 1\n",
    "SOUTH = 2\n",
    "EAST  = 3\n",
    "HEADING = {NORTH:'North', WEST:'West', SOUTH:'South',\n",
    "           EAST:'East', None:'None'} # For printing\n",
    "\n",
    "# Street status\n",
    "UNKNOWN    = 'Unknown'\n",
    "NOSTREET   = 'NoStreet'\n",
    "UNEXPLORED = 'Unexplored'\n",
    "CONNECTED  = 'Connected'\n",
    "\n",
    "# Global Variables: \n",
    "intersections   = []   # List of intersections\n",
    "lastintersecion = None # Last intersection visited\n",
    "\n",
    "lon     = 0            # Current east/west coordinate\n",
    "lat     = -1           # Current north/south coordinate\n",
    "heading = NORTH        # Current heading\n",
    "\n",
    "class Intersection:\n",
    "  # Initialize - create new intersection at (lon, lat)\n",
    "  def __init__(self, lon, lat):\n",
    "    self.lon = lon\n",
    "    self.lat = lat\n",
    "\n",
    "    # neighbors.\n",
    "    self.north = None\n",
    "    self.west  = None\n",
    "    self.south = None\n",
    "    self.east  = None\n",
    "\n",
    "    # Status of streets at the intersection, in NWSE directions.\n",
    "    self.streets = [UNKNOWN, UNKNOWN, UNKNOWN, UNKNOWN]\n",
    "    # Direction to head from this intersection in planned move.\n",
    "    self.headingToTarget = None\n",
    "\n",
    "    # You are welcome to implement an arbitrary number of\n",
    "    # \"neighbors\" to more directly match a general graph.\n",
    "    # But the above should be sufficient for a regular grid.\n",
    "\n",
    "    # Add this to the global list of intersections to make it searchable.\n",
    "    global intersections\n",
    "    if intersection(lon, lat) is not None:\n",
    "        raise Exception(\"Duplicate intersection at (%2d,%2d)\" % (lon,lat))\n",
    "    intersections.append(self)\n",
    "\n",
    "   # Print format.\n",
    "  def __repr__(self):\n",
    "    return (\"(%2d, %2d) N:%s W:%s S:%s E:%s - head %s\\n\" %\n",
    "            (self.lon, self.lat, self.streets[0],\n",
    "              self.streets[1], self.streets[2], self.streets[3],\n",
    "              HEADING[self.headingToTarget]))\n",
    "  \n",
    "\n",
    "# New longitude/latitude value after a step in the given heading.\n",
    "def shift(lon, lat, heading):\n",
    "  if   heading % 4 == NORTH:\n",
    "    return (lon, lat+1)\n",
    "  elif heading % 4 == WEST:\n",
    "    return (lon-1, lat)\n",
    "  elif heading % 4 == SOUTH:\n",
    "    return (lon, lat-1)\n",
    "  elif heading % 4 == EAST:\n",
    "    return (lon+1, lat)\n",
    "  else:\n",
    "    raise Exception(\"This can't be\")\n",
    "\n",
    "# Find the intersection\n",
    "def intersection(lon, lat):\n",
    "  list = [i for i in intersections if i.lon == lon and i.lat == lat]\n",
    "  if len(list) == 0:\n",
    "    return None\n",
    "  if len(list) > 1:\n",
    "    raise Exception(\"Multiple intersections at (%2d,%2d)\" % (lon, lat))\n",
    "  return list[0]\n",
    "\n",
    "\n"
   ]
  },
  {
   "cell_type": "code",
   "execution_count": 22,
   "metadata": {},
   "outputs": [
    {
     "data": {
      "text/plain": [
       "(10, 10) N:Unknown W:Unknown S:Unknown E:Unknown - head None"
      ]
     },
     "execution_count": 22,
     "metadata": {},
     "output_type": "execute_result"
    }
   ],
   "source": [
    "Intersection(10,10)"
   ]
  },
  {
   "cell_type": "code",
   "execution_count": 23,
   "metadata": {},
   "outputs": [
    {
     "data": {
      "text/plain": [
       "[(10, 10) N:Unknown W:Unknown S:Unknown E:Unknown - head None,\n",
       " (10, 10) N:Unknown W:Unknown S:Unknown E:Unknown - head None,\n",
       " (10, 10) N:Unknown W:Unknown S:Unknown E:Unknown - head None]"
      ]
     },
     "execution_count": 23,
     "metadata": {},
     "output_type": "execute_result"
    }
   ],
   "source": [
    "intersections"
   ]
  },
  {
   "cell_type": "code",
   "execution_count": null,
   "metadata": {},
   "outputs": [],
   "source": []
  }
 ],
 "metadata": {
  "interpreter": {
   "hash": "cdf7ff3d3be1f620f3981fde8803d0bacb718c3c6d8fe4a785c150ecde726d80"
  },
  "kernelspec": {
   "display_name": "Python 3.9.5 ('base')",
   "language": "python",
   "name": "python3"
  },
  "language_info": {
   "codemirror_mode": {
    "name": "ipython",
    "version": 3
   },
   "file_extension": ".py",
   "mimetype": "text/x-python",
   "name": "python",
   "nbconvert_exporter": "python",
   "pygments_lexer": "ipython3",
   "version": "3.9.5"
  },
  "orig_nbformat": 4
 },
 "nbformat": 4,
 "nbformat_minor": 2
}
